{
  "nbformat": 4,
  "nbformat_minor": 0,
  "metadata": {
    "colab": {
      "name": "h2o-titanic.ipynb",
      "provenance": [],
      "authorship_tag": "ABX9TyN/i4VzJad4f1O02A1sWOqj",
      "include_colab_link": true
    },
    "kernelspec": {
      "name": "python3",
      "display_name": "Python 3"
    },
    "accelerator": "TPU"
  },
  "cells": [
    {
      "cell_type": "markdown",
      "metadata": {
        "id": "view-in-github",
        "colab_type": "text"
      },
      "source": [
        "<a href=\"https://colab.research.google.com/github/nicosalda/h2o-automl/blob/master/h2o_titanic.ipynb\" target=\"_parent\"><img src=\"https://colab.research.google.com/assets/colab-badge.svg\" alt=\"Open In Colab\"/></a>"
      ]
    },
    {
      "cell_type": "code",
      "metadata": {
        "id": "vrEPQxBOchvU",
        "colab_type": "code",
        "outputId": "fc83b2c5-9cdd-4d6a-db68-feb7731b1b1f",
        "colab": {
          "base_uri": "https://localhost:8080/",
          "height": 35
        }
      },
      "source": [
        "!python --version"
      ],
      "execution_count": 1,
      "outputs": [
        {
          "output_type": "stream",
          "text": [
            "Python 3.6.9\n"
          ],
          "name": "stdout"
        }
      ]
    },
    {
      "cell_type": "code",
      "metadata": {
        "id": "aCCOxJnfcpl2",
        "colab_type": "code",
        "outputId": "12420bed-c9e5-4ef3-8920-ec752084b9c3",
        "colab": {
          "base_uri": "https://localhost:8080/",
          "height": 367
        }
      },
      "source": [
        "!pip install h2o"
      ],
      "execution_count": 2,
      "outputs": [
        {
          "output_type": "stream",
          "text": [
            "Collecting h2o\n",
            "\u001b[?25l  Downloading https://files.pythonhosted.org/packages/ef/f5/23c0d33d0b4880cbb09327ba8bc0072d366bc80eada9122bd6758ef1d365/h2o-3.28.0.3.tar.gz (126.2MB)\n",
            "\u001b[K     |████████████████████████████████| 126.2MB 89kB/s \n",
            "\u001b[?25hRequirement already satisfied: requests in /usr/local/lib/python3.6/dist-packages (from h2o) (2.21.0)\n",
            "Requirement already satisfied: tabulate in /usr/local/lib/python3.6/dist-packages (from h2o) (0.8.6)\n",
            "Requirement already satisfied: future in /usr/local/lib/python3.6/dist-packages (from h2o) (0.16.0)\n",
            "Collecting colorama>=0.3.8\n",
            "  Downloading https://files.pythonhosted.org/packages/c9/dc/45cdef1b4d119eb96316b3117e6d5708a08029992b2fee2c143c7a0a5cc5/colorama-0.4.3-py2.py3-none-any.whl\n",
            "Requirement already satisfied: idna<2.9,>=2.5 in /usr/local/lib/python3.6/dist-packages (from requests->h2o) (2.8)\n",
            "Requirement already satisfied: certifi>=2017.4.17 in /usr/local/lib/python3.6/dist-packages (from requests->h2o) (2019.11.28)\n",
            "Requirement already satisfied: urllib3<1.25,>=1.21.1 in /usr/local/lib/python3.6/dist-packages (from requests->h2o) (1.24.3)\n",
            "Requirement already satisfied: chardet<3.1.0,>=3.0.2 in /usr/local/lib/python3.6/dist-packages (from requests->h2o) (3.0.4)\n",
            "Building wheels for collected packages: h2o\n",
            "  Building wheel for h2o (setup.py) ... \u001b[?25l\u001b[?25hdone\n",
            "  Created wheel for h2o: filename=h2o-3.28.0.3-py2.py3-none-any.whl size=126303006 sha256=c689d74ed55202783c6298bf64e5b8c9018587ee1d6b2a8a4d3e3bd4e3c45b8c\n",
            "  Stored in directory: /root/.cache/pip/wheels/fa/7c/ce/95ae52b4d3f1b14a27c3c961c1f94635aee841ab1eec3aeeca\n",
            "Successfully built h2o\n",
            "Installing collected packages: colorama, h2o\n",
            "Successfully installed colorama-0.4.3 h2o-3.28.0.3\n"
          ],
          "name": "stdout"
        }
      ]
    },
    {
      "cell_type": "code",
      "metadata": {
        "id": "f5FOvotcc4MW",
        "colab_type": "code",
        "outputId": "93b4025e-90d1-4360-f6d0-5ca0fb40a07b",
        "colab": {
          "base_uri": "https://localhost:8080/",
          "height": 124
        }
      },
      "source": [
        "from google.colab import drive\n",
        "drive.mount('/content/drive')"
      ],
      "execution_count": 3,
      "outputs": [
        {
          "output_type": "stream",
          "text": [
            "Go to this URL in a browser: https://accounts.google.com/o/oauth2/auth?client_id=947318989803-6bn6qk8qdgf4n4g3pfee6491hc0brc4i.apps.googleusercontent.com&redirect_uri=urn%3aietf%3awg%3aoauth%3a2.0%3aoob&response_type=code&scope=email%20https%3a%2f%2fwww.googleapis.com%2fauth%2fdocs.test%20https%3a%2f%2fwww.googleapis.com%2fauth%2fdrive%20https%3a%2f%2fwww.googleapis.com%2fauth%2fdrive.photos.readonly%20https%3a%2f%2fwww.googleapis.com%2fauth%2fpeopleapi.readonly\n",
            "\n",
            "Enter your authorization code:\n",
            "··········\n",
            "Mounted at /content/drive\n"
          ],
          "name": "stdout"
        }
      ]
    },
    {
      "cell_type": "code",
      "metadata": {
        "id": "w00279Q1ePjI",
        "colab_type": "code",
        "outputId": "6e220bf8-84ff-4695-e1ce-0c80942f3463",
        "colab": {
          "base_uri": "https://localhost:8080/",
          "height": 595
        }
      },
      "source": [
        "import h2o\n",
        "h2o.init()"
      ],
      "execution_count": 4,
      "outputs": [
        {
          "output_type": "stream",
          "text": [
            "Checking whether there is an H2O instance running at http://localhost:54321 ..... not found.\n",
            "Attempting to start a local H2O server...\n",
            "  Java Version: openjdk version \"11.0.6\" 2020-01-14; OpenJDK Runtime Environment (build 11.0.6+10-post-Ubuntu-1ubuntu118.04.1); OpenJDK 64-Bit Server VM (build 11.0.6+10-post-Ubuntu-1ubuntu118.04.1, mixed mode, sharing)\n",
            "  Starting server from /usr/local/lib/python3.6/dist-packages/h2o/backend/bin/h2o.jar\n",
            "  Ice root: /tmp/tmp42iwiizp\n",
            "  JVM stdout: /tmp/tmp42iwiizp/h2o_unknownUser_started_from_python.out\n",
            "  JVM stderr: /tmp/tmp42iwiizp/h2o_unknownUser_started_from_python.err\n",
            "  Server is running at http://127.0.0.1:54321\n",
            "Connecting to H2O server at http://127.0.0.1:54321 ... successful.\n"
          ],
          "name": "stdout"
        },
        {
          "output_type": "display_data",
          "data": {
            "text/html": [
              "<div style=\"overflow:auto\"><table style=\"width:50%\"><tr><td>H2O cluster uptime:</td>\n",
              "<td>02 secs</td></tr>\n",
              "<tr><td>H2O cluster timezone:</td>\n",
              "<td>Etc/UTC</td></tr>\n",
              "<tr><td>H2O data parsing timezone:</td>\n",
              "<td>UTC</td></tr>\n",
              "<tr><td>H2O cluster version:</td>\n",
              "<td>3.28.0.3</td></tr>\n",
              "<tr><td>H2O cluster version age:</td>\n",
              "<td>20 days </td></tr>\n",
              "<tr><td>H2O cluster name:</td>\n",
              "<td>H2O_from_python_unknownUser_tetka3</td></tr>\n",
              "<tr><td>H2O cluster total nodes:</td>\n",
              "<td>1</td></tr>\n",
              "<tr><td>H2O cluster free memory:</td>\n",
              "<td>3 Gb</td></tr>\n",
              "<tr><td>H2O cluster total cores:</td>\n",
              "<td>2</td></tr>\n",
              "<tr><td>H2O cluster allowed cores:</td>\n",
              "<td>2</td></tr>\n",
              "<tr><td>H2O cluster status:</td>\n",
              "<td>accepting new members, healthy</td></tr>\n",
              "<tr><td>H2O connection url:</td>\n",
              "<td>http://127.0.0.1:54321</td></tr>\n",
              "<tr><td>H2O connection proxy:</td>\n",
              "<td>{'http': None, 'https': None}</td></tr>\n",
              "<tr><td>H2O internal security:</td>\n",
              "<td>False</td></tr>\n",
              "<tr><td>H2O API Extensions:</td>\n",
              "<td>Amazon S3, XGBoost, Algos, AutoML, Core V3, TargetEncoder, Core V4</td></tr>\n",
              "<tr><td>Python version:</td>\n",
              "<td>3.6.9 final</td></tr></table></div>"
            ],
            "text/plain": [
              "--------------------------  ------------------------------------------------------------------\n",
              "H2O cluster uptime:         02 secs\n",
              "H2O cluster timezone:       Etc/UTC\n",
              "H2O data parsing timezone:  UTC\n",
              "H2O cluster version:        3.28.0.3\n",
              "H2O cluster version age:    20 days\n",
              "H2O cluster name:           H2O_from_python_unknownUser_tetka3\n",
              "H2O cluster total nodes:    1\n",
              "H2O cluster free memory:    3 Gb\n",
              "H2O cluster total cores:    2\n",
              "H2O cluster allowed cores:  2\n",
              "H2O cluster status:         accepting new members, healthy\n",
              "H2O connection url:         http://127.0.0.1:54321\n",
              "H2O connection proxy:       {'http': None, 'https': None}\n",
              "H2O internal security:      False\n",
              "H2O API Extensions:         Amazon S3, XGBoost, Algos, AutoML, Core V3, TargetEncoder, Core V4\n",
              "Python version:             3.6.9 final\n",
              "--------------------------  ------------------------------------------------------------------"
            ]
          },
          "metadata": {
            "tags": []
          }
        }
      ]
    },
    {
      "cell_type": "code",
      "metadata": {
        "id": "gX6e7SiyeuiL",
        "colab_type": "code",
        "outputId": "ad90e525-0395-4662-f2cb-d31ac15c7773",
        "colab": {
          "base_uri": "https://localhost:8080/",
          "height": 52
        }
      },
      "source": [
        "train = h2o.import_file('drive/My Drive/train.csv')\n",
        "test = h2o.import_file('drive/My Drive/test.csv')\n",
        "x = train.columns\n",
        "y = 'Survived'"
      ],
      "execution_count": 5,
      "outputs": [
        {
          "output_type": "stream",
          "text": [
            "Parse progress: |█████████████████████████████████████████████████████████| 100%\n",
            "Parse progress: |█████████████████████████████████████████████████████████| 100%\n"
          ],
          "name": "stdout"
        }
      ]
    },
    {
      "cell_type": "code",
      "metadata": {
        "id": "MJ6vgD4fgw1o",
        "colab_type": "code",
        "outputId": "9b73c1dd-352b-4a65-c2f9-84676a2dd24f",
        "colab": {
          "base_uri": "https://localhost:8080/",
          "height": 35
        }
      },
      "source": [
        "from h2o.automl import H2OAutoML, get_leaderboard\n",
        "aml = H2OAutoML()\n",
        "aml.train(x = x, y = y, training_frame = train)"
      ],
      "execution_count": 6,
      "outputs": [
        {
          "output_type": "stream",
          "text": [
            "AutoML progress: |████████████████████████████████████████████████████████| 100%\n"
          ],
          "name": "stdout"
        }
      ]
    },
    {
      "cell_type": "code",
      "metadata": {
        "id": "Q4IHOxkXlY5j",
        "colab_type": "code",
        "colab": {
          "base_uri": "https://localhost:8080/",
          "height": 247
        },
        "outputId": "9a082fa8-c566-4bd5-8661-f3e7d0752d55"
      },
      "source": [
        "lb = aml.leaderboard\n",
        "lb.head()"
      ],
      "execution_count": 7,
      "outputs": [
        {
          "output_type": "display_data",
          "data": {
            "text/html": [
              "<table>\n",
              "<thead>\n",
              "<tr><th>model_id                                           </th><th style=\"text-align: right;\">  mean_residual_deviance</th><th style=\"text-align: right;\">    rmse</th><th style=\"text-align: right;\">     mse</th><th style=\"text-align: right;\">     mae</th><th style=\"text-align: right;\">   rmsle</th></tr>\n",
              "</thead>\n",
              "<tbody>\n",
              "<tr><td>StackedEnsemble_BestOfFamily_AutoML_20200225_215410</td><td style=\"text-align: right;\">                0.122749</td><td style=\"text-align: right;\">0.350356</td><td style=\"text-align: right;\">0.122749</td><td style=\"text-align: right;\">0.247465</td><td style=\"text-align: right;\">0.246589</td></tr>\n",
              "<tr><td>XGBoost_grid__1_AutoML_20200225_215410_model_7     </td><td style=\"text-align: right;\">                0.123831</td><td style=\"text-align: right;\">0.351896</td><td style=\"text-align: right;\">0.123831</td><td style=\"text-align: right;\">0.248407</td><td style=\"text-align: right;\">0.246766</td></tr>\n",
              "<tr><td>StackedEnsemble_AllModels_AutoML_20200225_215410   </td><td style=\"text-align: right;\">                0.12427 </td><td style=\"text-align: right;\">0.35252 </td><td style=\"text-align: right;\">0.12427 </td><td style=\"text-align: right;\">0.275105</td><td style=\"text-align: right;\">0.248994</td></tr>\n",
              "<tr><td>XGBoost_grid__1_AutoML_20200225_215410_model_1     </td><td style=\"text-align: right;\">                0.126399</td><td style=\"text-align: right;\">0.355526</td><td style=\"text-align: right;\">0.126399</td><td style=\"text-align: right;\">0.256606</td><td style=\"text-align: right;\">0.250545</td></tr>\n",
              "<tr><td>XGBoost_grid__1_AutoML_20200225_215410_model_5     </td><td style=\"text-align: right;\">                0.12715 </td><td style=\"text-align: right;\">0.356582</td><td style=\"text-align: right;\">0.12715 </td><td style=\"text-align: right;\">0.262616</td><td style=\"text-align: right;\">0.251749</td></tr>\n",
              "<tr><td>XGBoost_grid__1_AutoML_20200225_215410_model_6     </td><td style=\"text-align: right;\">                0.127468</td><td style=\"text-align: right;\">0.357026</td><td style=\"text-align: right;\">0.127468</td><td style=\"text-align: right;\">0.260543</td><td style=\"text-align: right;\">0.251546</td></tr>\n",
              "<tr><td>XGBoost_3_AutoML_20200225_215410                   </td><td style=\"text-align: right;\">                0.127899</td><td style=\"text-align: right;\">0.357629</td><td style=\"text-align: right;\">0.127899</td><td style=\"text-align: right;\">0.257258</td><td style=\"text-align: right;\">0.251351</td></tr>\n",
              "<tr><td>XGBoost_grid__1_AutoML_20200225_215410_model_2     </td><td style=\"text-align: right;\">                0.127989</td><td style=\"text-align: right;\">0.357756</td><td style=\"text-align: right;\">0.127989</td><td style=\"text-align: right;\">0.267334</td><td style=\"text-align: right;\">0.25239 </td></tr>\n",
              "<tr><td>DRF_1_AutoML_20200225_215410                       </td><td style=\"text-align: right;\">                0.128356</td><td style=\"text-align: right;\">0.358268</td><td style=\"text-align: right;\">0.128356</td><td style=\"text-align: right;\">0.251853</td><td style=\"text-align: right;\">0.253858</td></tr>\n",
              "<tr><td>XRT_1_AutoML_20200225_215410                       </td><td style=\"text-align: right;\">                0.128444</td><td style=\"text-align: right;\">0.358391</td><td style=\"text-align: right;\">0.128444</td><td style=\"text-align: right;\">0.255966</td><td style=\"text-align: right;\">0.253294</td></tr>\n",
              "</tbody>\n",
              "</table>"
            ]
          },
          "metadata": {
            "tags": []
          }
        },
        {
          "output_type": "execute_result",
          "data": {
            "text/plain": [
              ""
            ]
          },
          "metadata": {
            "tags": []
          },
          "execution_count": 7
        }
      ]
    },
    {
      "cell_type": "code",
      "metadata": {
        "id": "dBCKIQYRljlM",
        "colab_type": "code",
        "colab": {
          "base_uri": "https://localhost:8080/",
          "height": 641
        },
        "outputId": "379b8b58-e142-44dc-f8c1-f8018f93eb9c"
      },
      "source": [
        "aml.leader"
      ],
      "execution_count": 8,
      "outputs": [
        {
          "output_type": "stream",
          "text": [
            "Model Details\n",
            "=============\n",
            "H2OStackedEnsembleEstimator :  Stacked Ensemble\n",
            "Model Key:  StackedEnsemble_BestOfFamily_AutoML_20200225_215410\n",
            "\n",
            "No model summary for this model\n",
            "\n",
            "ModelMetricsRegressionGLM: stackedensemble\n",
            "** Reported on train data. **\n",
            "\n",
            "MSE: 0.05283902874432849\n",
            "RMSE: 0.22986741557760745\n",
            "MAE: 0.15457602639593362\n",
            "RMSLE: 0.1602866401223569\n",
            "R^2: 0.7765852801021728\n",
            "Mean Residual Deviance: 0.05283902874432849\n",
            "Null degrees of freedom: 890\n",
            "Residual degrees of freedom: 884\n",
            "Null deviance: 210.72727272727357\n",
            "Residual deviance: 47.07957461119668\n",
            "AIC: -75.44164971328775\n",
            "\n",
            "ModelMetricsRegressionGLM: stackedensemble\n",
            "** Reported on cross-validation data. **\n",
            "\n",
            "MSE: 0.1227492471993526\n",
            "RMSE: 0.3503558864916538\n",
            "MAE: 0.2474651050406744\n",
            "RMSLE: 0.24658865061241542\n",
            "R^2: 0.4809899172558866\n",
            "Mean Residual Deviance: 0.1227492471993526\n",
            "Null degrees of freedom: 890\n",
            "Residual degrees of freedom: 885\n",
            "Null deviance: 211.94354572829272\n",
            "Residual deviance: 109.36957925462316\n",
            "AIC: 673.5764903671932\n"
          ],
          "name": "stdout"
        },
        {
          "output_type": "execute_result",
          "data": {
            "text/plain": [
              ""
            ]
          },
          "metadata": {
            "tags": []
          },
          "execution_count": 8
        }
      ]
    }
  ]
}